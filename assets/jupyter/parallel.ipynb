{
 "cells": [
  {
   "cell_type": "code",
   "execution_count": 4,
   "metadata": {},
   "outputs": [
    {
     "name": "stdout",
     "output_type": "stream",
     "text": [
      "10.079007148742676\n"
     ]
    }
   ],
   "source": [
    "from joblib import Parallel, delayed\n",
    "import time, math\n",
    "\n",
    "def my_fun(i):\n",
    "    time.sleep(1)\n",
    "    return i\n",
    "\n",
    "num = 10\n",
    "start = time.time()\n",
    "for i in range(num):\n",
    "    my_fun(i)\n",
    "end = time.time()\n",
    "print(end-start)"
   ]
  },
  {
   "cell_type": "code",
   "execution_count": 6,
   "metadata": {},
   "outputs": [
    {
     "name": "stdout",
     "output_type": "stream",
     "text": [
      "5.043555736541748\n"
     ]
    }
   ],
   "source": [
    "start = time.time()\n",
    "# n_jobs is the number of parallel jobs which has been set to 2\n",
    "Parallel(n_jobs=2)(delayed(my_fun)(i) for i in range(num))\n",
    "end = time.time()\n",
    "print(end-start)"
   ]
  },
  {
   "cell_type": "code",
   "execution_count": null,
   "metadata": {},
   "outputs": [],
   "source": []
  }
 ],
 "metadata": {
  "kernelspec": {
   "display_name": "Python 3",
   "language": "python",
   "name": "python3"
  },
  "language_info": {
   "codemirror_mode": {
    "name": "ipython",
    "version": 3
   },
   "file_extension": ".py",
   "mimetype": "text/x-python",
   "name": "python",
   "nbconvert_exporter": "python",
   "pygments_lexer": "ipython3",
   "version": "3.8.5"
  }
 },
 "nbformat": 4,
 "nbformat_minor": 4
}
